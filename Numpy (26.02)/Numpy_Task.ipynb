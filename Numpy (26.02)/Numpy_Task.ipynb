{
 "cells": [
  {
   "cell_type": "code",
   "execution_count": 8,
   "id": "d6311518",
   "metadata": {
    "id": "medieval-detail"
   },
   "outputs": [],
   "source": [
    "import numpy as np"
   ]
  },
  {
   "cell_type": "markdown",
   "id": "3c2e6162",
   "metadata": {
    "id": "abstract-istanbul"
   },
   "source": [
    "1. Задание\n",
    "- проверьте тип объекта python_list\n",
    "- если это не numpy ndarray, то преобразуйте к нему\n",
    "- проверьте, что на выходе вы получили объект python_list желаемого типа"
   ]
  },
  {
   "cell_type": "code",
   "execution_count": 10,
   "id": "3f53c900",
   "metadata": {
    "id": "entertaining-automation"
   },
   "outputs": [
    {
     "name": "stdout",
     "output_type": "stream",
     "text": [
      "<class 'list'>\n",
      "<class 'numpy.ndarray'>\n"
     ]
    }
   ],
   "source": [
    "python_list = [1, 12, 13, 45, 76, 45, 98, 0]\n",
    "print(type(python_list))\n",
    "if type(python_list) is not type(np.ndarray):\n",
    "    python_list = np.array(python_list)\n",
    "    print(type(python_list))"
   ]
  },
  {
   "cell_type": "markdown",
   "id": "2d22c1ac",
   "metadata": {
    "id": "loose-tobago"
   },
   "source": [
    "2. Задание\n",
    "- создайте одномерный массив numpy из 10 элементов заполненный числом 1.5"
   ]
  },
  {
   "cell_type": "code",
   "execution_count": 11,
   "id": "27b1c5fb",
   "metadata": {
    "id": "included-polymer"
   },
   "outputs": [
    {
     "name": "stdout",
     "output_type": "stream",
     "text": [
      "[1.5 1.5 1.5 1.5 1.5 1.5 1.5 1.5 1.5 1.5]\n"
     ]
    }
   ],
   "source": [
    "z = np.ndarray((10))\n",
    "z.fill(1.5)\n",
    "print(z)"
   ]
  },
  {
   "cell_type": "markdown",
   "id": "41b45763",
   "metadata": {
    "id": "threatened-theme"
   },
   "source": [
    "3. Задание\n",
    "- создайте двумерный массив numpy из 25 элементов заполненный числом 0"
   ]
  },
  {
   "cell_type": "code",
   "execution_count": 12,
   "id": "5d215090",
   "metadata": {
    "id": "alert-endorsement"
   },
   "outputs": [
    {
     "name": "stdout",
     "output_type": "stream",
     "text": [
      "[[0. 0. 0. 0. 0.]\n",
      " [0. 0. 0. 0. 0.]\n",
      " [0. 0. 0. 0. 0.]\n",
      " [0. 0. 0. 0. 0.]\n",
      " [0. 0. 0. 0. 0.]]\n"
     ]
    }
   ],
   "source": [
    "z = np.ndarray((5,5))\n",
    "z.fill(0)\n",
    "print(z)"
   ]
  },
  {
   "cell_type": "markdown",
   "id": "df7ac858",
   "metadata": {
    "id": "federal-blackberry"
   },
   "source": [
    "4. Задание\n",
    "- создайте одномерный массив numpy из 12 элементов заполненный числом 1"
   ]
  },
  {
   "cell_type": "code",
   "execution_count": 15,
   "id": "40fbd4ce",
   "metadata": {
    "id": "static-filing"
   },
   "outputs": [
    {
     "name": "stdout",
     "output_type": "stream",
     "text": [
      "[1. 1. 1. 1. 1. 1. 1. 1. 1. 1. 1. 1.]\n"
     ]
    }
   ],
   "source": [
    "ones = np.ndarray((12))\n",
    "ones.fill(1)\n",
    "print(ones)"
   ]
  },
  {
   "cell_type": "markdown",
   "id": "5082d0b9",
   "metadata": {
    "id": "whole-chassis"
   },
   "source": [
    "5. Задание\n",
    "- преобразуйте массив из предыдущего задания к матрице 3 на 4\n",
    "- выведите размерность полученного массива"
   ]
  },
  {
   "cell_type": "code",
   "execution_count": 17,
   "id": "91ab050e",
   "metadata": {
    "id": "outstanding-deviation"
   },
   "outputs": [
    {
     "data": {
      "text/plain": [
       "(3, 4)"
      ]
     },
     "execution_count": 17,
     "metadata": {},
     "output_type": "execute_result"
    }
   ],
   "source": [
    "ones = ones.reshape((3,4))\n",
    "ones.shape"
   ]
  },
  {
   "cell_type": "markdown",
   "id": "5cb68ca8",
   "metadata": {
    "id": "cubic-noise"
   },
   "source": [
    "6. Задание\n",
    "- создайте матрицу 4 на 5 заполненную числами от 1 до 20\n",
    "- замените элемент в 3-й строке 4-м столбце на -99"
   ]
  },
  {
   "cell_type": "code",
   "execution_count": 27,
   "id": "472dc7fa",
   "metadata": {
    "id": "foster-memory"
   },
   "outputs": [
    {
     "name": "stdout",
     "output_type": "stream",
     "text": [
      "[[ 1  2  3  4  5]\n",
      " [ 6  7  8  9 10]\n",
      " [11 12 13 14 15]\n",
      " [16 17 18 19 20]]\n",
      "[[  1   2   3   4   5]\n",
      " [  6   7   8   9  10]\n",
      " [ 11  12  13 -99  15]\n",
      " [ 16  17  18  19  20]]\n"
     ]
    }
   ],
   "source": [
    "Z = np.array(range(1,21)).reshape((4,5))\n",
    "print(Z)\n",
    "Z[2,3] = -99\n",
    "print(Z)"
   ]
  },
  {
   "cell_type": "markdown",
   "id": "1ec6594d",
   "metadata": {
    "id": "helpful-table"
   },
   "source": [
    "7. Задание\n",
    "- создайте вектор длинной 15 со случайными целыми числами в диапазоне от -10 до 10\n",
    "- сделайте реверс вектора"
   ]
  },
  {
   "cell_type": "code",
   "execution_count": 36,
   "id": "63ea2e84",
   "metadata": {
    "id": "magnetic-leone"
   },
   "outputs": [
    {
     "name": "stdout",
     "output_type": "stream",
     "text": [
      "[-6 -5 -3 -9  2 -1 -7  4 -2  4  9  1  6  9 -9]\n",
      "[-9  9  6  1  9  4 -2  4 -7 -1  2 -9 -3 -5 -6]\n"
     ]
    }
   ],
   "source": [
    "first = np.random.randint(-10, 10, 15)\n",
    "print(first)\n",
    "second = first[::-1]\n",
    "print(second)"
   ]
  },
  {
   "cell_type": "markdown",
   "id": "697e0aea",
   "metadata": {
    "id": "executed-september"
   },
   "source": [
    "8. Задание\n",
    "- создайте матрицу 5 на 5 со случайными целыми числами в диапазоне от -15 до 15\n",
    "- замените отрицательные элементы на их квадраты"
   ]
  },
  {
   "cell_type": "code",
   "execution_count": 42,
   "id": "5c97304a",
   "metadata": {
    "id": "pharmaceutical-sigma"
   },
   "outputs": [
    {
     "name": "stdout",
     "output_type": "stream",
     "text": [
      "[[ -8 -15  -3 -15 -13]\n",
      " [  3   1  -2  12   2]\n",
      " [ -8  10   4  11   7]\n",
      " [  3  -3   8  -7   9]\n",
      " [ -8   4   1   3  -6]]\n",
      "[[ 64 225   9 225 169]\n",
      " [  3   1   4  12   2]\n",
      " [ 64  10   4  11   7]\n",
      " [  3   9   8  49   9]\n",
      " [ 64   4   1   3  36]]\n"
     ]
    }
   ],
   "source": [
    "first = np.random.randint(-15, 15, 25).reshape(5,5)\n",
    "print(first)\n",
    "second = np.where(first < 0, first * first, first)\n",
    "print(second)"
   ]
  },
  {
   "cell_type": "markdown",
   "id": "1ed634d8",
   "metadata": {
    "id": "floral-difference"
   },
   "source": [
    "9. Задание\n",
    "* создайте матрицу 3 на 5 со случайными целыми числами в диапазоне от -15 до 15\n",
    "- найдите максимум и минимум\n",
    "- найдите среднее по столбцам\n",
    "- найдите среднее по строкам"
   ]
  },
  {
   "cell_type": "code",
   "execution_count": 43,
   "id": "1d170692",
   "metadata": {
    "id": "saving-conference"
   },
   "outputs": [
    {
     "name": "stdout",
     "output_type": "stream",
     "text": [
      "[[ 14   1 -15   6  10]\n",
      " [  2   8   0   2 -12]\n",
      " [  8   7 -13 -15 -15]]\n",
      "14\n",
      "-15\n",
      "[ 8.          5.33333333 -9.33333333 -2.33333333 -5.66666667]\n",
      "[ 3.2  0.  -5.6]\n"
     ]
    }
   ],
   "source": [
    "first = np.random.randint(-15, 15, 15).reshape(3,5)\n",
    "print(first)\n",
    "print(first.max())\n",
    "print(first.min())\n",
    "print(first.mean(0))\n",
    "print(first.mean(1))"
   ]
  },
  {
   "cell_type": "markdown",
   "id": "dd7732c1",
   "metadata": {
    "id": "diagnostic-departure"
   },
   "source": [
    "10. Задание\n",
    "- даны две матрицы\n",
    "- убедитесь, что их можно пермножить\n",
    "- произведите операцию умножения матриц, если это возможно, иначе выведите ошибку"
   ]
  },
  {
   "cell_type": "code",
   "execution_count": 52,
   "id": "3f96fc1c",
   "metadata": {
    "id": "olympic-qatar"
   },
   "outputs": [
    {
     "name": "stdout",
     "output_type": "stream",
     "text": [
      "ошибка\n"
     ]
    }
   ],
   "source": [
    "a = np.random.randint(-10, 10, (2, 5))\n",
    "first_axis = np.random.randint(4, 6)\n",
    "b = np.random.randint(-10, 10, (first_axis, 3))\n",
    "if a.shape[1] > b.shape[0]:\n",
    "    print(a @ b)\n",
    "else:\n",
    "    print(\"ошибка\")"
   ]
  },
  {
   "cell_type": "markdown",
   "id": "e1c14606",
   "metadata": {
    "id": "governmental-austin"
   },
   "source": [
    "11. Задание\n",
    "- создайте матрицу 5 на 5 заполненную равномерным распределением с диапазоно 2-12\n",
    "- заполните все элементы ниже главной диагонали нулями"
   ]
  },
  {
   "cell_type": "code",
   "execution_count": 59,
   "id": "efd7fb45",
   "metadata": {
    "id": "suffering-mauritius"
   },
   "outputs": [
    {
     "name": "stdout",
     "output_type": "stream",
     "text": [
      "[[ 9.3644026   7.79204479 10.08965367  5.74938636  8.91716017]\n",
      " [-1.          5.78212538  5.81273871 10.96234732 10.98882155]\n",
      " [-1.         -1.          2.92659868  5.03512595  3.69046254]\n",
      " [-1.         -1.         -1.          7.57619411  2.98246146]\n",
      " [-1.         -1.         -1.         -1.          3.9723598 ]]\n"
     ]
    }
   ],
   "source": [
    "mask = np.random.uniform(2, 12, (5, 5)) \n",
    "mask[np.tril_indices(mask.shape[0], -1)] = -1\n",
    "\n",
    "print(mask)"
   ]
  },
  {
   "cell_type": "markdown",
   "id": "b7e2b5e1",
   "metadata": {
    "id": "altered-baghdad"
   },
   "source": [
    "12. Задание\n",
    "- создайте матрицу 5 на 5 заполненную нормальным распределением с парметрами среднее 10 и отклонение 2\n",
    "- заполните все элементы на главной диагонали нулями"
   ]
  },
  {
   "cell_type": "code",
   "execution_count": 73,
   "id": "d53078de",
   "metadata": {
    "id": "refined-stuff"
   },
   "outputs": [
    {
     "name": "stdout",
     "output_type": "stream",
     "text": [
      "[[ 0.          7.72552056  9.34318091 14.92855296 10.79733375]\n",
      " [12.77341876  0.          8.5398054  10.4065298  10.83770999]\n",
      " [ 7.40816283 12.25751646  0.          6.88310668  9.30014331]\n",
      " [ 6.48622981 12.57147327  8.47041939  0.          5.16661393]\n",
      " [10.68673388  9.87583181 11.4860628  10.03769708  0.        ]]\n"
     ]
    }
   ],
   "source": [
    "mask = f = np.random.normal(10,2, 25).reshape(5,5)\n",
    "mask[np.diag_indices(mask.shape[0])] = 0\n",
    "\n",
    "print(mask)"
   ]
  },
  {
   "cell_type": "markdown",
   "id": "c803d4dd",
   "metadata": {
    "id": "quiet-complement"
   },
   "source": [
    "13. Задание\n",
    "- дано два массива, проверить одинаковы ли они"
   ]
  },
  {
   "cell_type": "code",
   "execution_count": 75,
   "id": "0efe308d",
   "metadata": {
    "id": "french-fighter"
   },
   "outputs": [
    {
     "name": "stdout",
     "output_type": "stream",
     "text": [
      "[1 0 1 0 1]\n",
      "[0 0 0 1 0]\n",
      "[False  True False False False]\n"
     ]
    }
   ],
   "source": [
    "a = np.random.randint(0,2,5)\n",
    "print(a)\n",
    "b = np.random.randint(0,2,5)\n",
    "print(b)\n",
    "equal = a==b\n",
    "print(equal)"
   ]
  },
  {
   "cell_type": "markdown",
   "id": "c27f4299",
   "metadata": {
    "id": "color-amplifier"
   },
   "source": [
    "14. Задание\n",
    "- сгенерируйте матрицу случайного размера:\n",
    " - строк от 3 до 7\n",
    " - столбцов от 2 до 12\n",
    "- сгенерируйте число N - размер выборки так, чтобы оно не превышало половину количества элементов сгенерированной матрицы, но было больше 0\n",
    "- сделайте случайную выборку N элементов"
   ]
  },
  {
   "cell_type": "code",
   "execution_count": 89,
   "id": "22a48ef6",
   "metadata": {
    "id": "close-daisy"
   },
   "outputs": [
    {
     "name": "stdout",
     "output_type": "stream",
     "text": [
      "[[ 7.97579888e-312  7.97579889e-312  7.97579889e-312  7.97579889e-312\n",
      "   7.97579889e-312  7.97579889e-312  7.97579889e-312  7.97579889e-312\n",
      "   7.97579889e-312]\n",
      " [-2.96954318e-311  0.00000000e+000  0.00000000e+000  0.00000000e+000\n",
      "   6.95188443e-310  2.56914136e-322  7.97579884e-312  7.97579889e-312\n",
      "   7.97579884e-312]\n",
      " [ 7.97579884e-312  7.97579889e-312  7.97579884e-312  7.97579889e-312\n",
      "   7.97579889e-312  7.97579770e-312  7.97579889e-312  7.97579884e-312\n",
      "   7.97579884e-312]\n",
      " [ 7.97579884e-312  7.97579888e-312  7.97579733e-312  7.97579888e-312\n",
      "   7.97579888e-312  7.97579889e-312  7.97579888e-312  7.97579888e-312\n",
      "   7.97579888e-312]\n",
      " [ 7.97579888e-312  7.97579889e-312  7.97579888e-312  7.97579889e-312\n",
      "   7.97579843e-312  7.97579889e-312  7.97579856e-312  7.97579888e-312\n",
      "   7.97579833e-312]\n",
      " [ 7.97579888e-312  7.97579964e-312  7.97579888e-312  7.97579888e-312\n",
      "   7.97579888e-312  7.97579889e-312  7.97579889e-312  7.97579888e-312\n",
      "   7.97579889e-312]]\n",
      "3\n",
      "[7.97579888e-312 7.97579889e-312 7.97579889e-312]\n"
     ]
    }
   ],
   "source": [
    "r, c = np.random.randint(3,7), np.random.randint(2,12)\n",
    "a = np.ndarray((r,c))\n",
    "print(a)\n",
    "N = np.random.randint(0,a.size /2)\n",
    "print(N)\n",
    "sample = np.random.choice(a.flatten(),N)\n",
    "print(sample)"
   ]
  },
  {
   "cell_type": "markdown",
   "id": "753033de",
   "metadata": {
    "id": "patent-african"
   },
   "source": [
    "15. Задание\n",
    "- дан вектор, проверить есть в нем Nan\n",
    "- проверить есть в нем знак бесконечности\n",
    "- заполнить их нулями"
   ]
  },
  {
   "cell_type": "code",
   "execution_count": 95,
   "id": "6a1db893",
   "metadata": {
    "id": "taken-fabric"
   },
   "outputs": [
    {
     "name": "stdout",
     "output_type": "stream",
     "text": [
      "[1. 0. 0.]\n"
     ]
    }
   ],
   "source": [
    "a = np.array([1, np.NaN, np.Inf], float)\n",
    "a = np.where(np.isnan(a) | np.isinf(a),0,a)\n",
    "print(a)"
   ]
  },
  {
   "cell_type": "markdown",
   "id": "9428a993",
   "metadata": {
    "id": "analyzed-ireland"
   },
   "source": [
    "16. Задание\n",
    "- сгенерировать массив с произвольным числом осей\n",
    "- определить сколько у него осей"
   ]
  },
  {
   "cell_type": "code",
   "execution_count": 109,
   "id": "0e4ae18f",
   "metadata": {
    "id": "imposed-digest"
   },
   "outputs": [
    {
     "name": "stdout",
     "output_type": "stream",
     "text": [
      "3\n",
      "3\n"
     ]
    }
   ],
   "source": [
    "axis = np.random.randint(1,10)\n",
    "print(axis)\n",
    "matrix = np.ndarray(tuple(range(axis)))\n",
    "print(matrix.ndim)"
   ]
  },
  {
   "cell_type": "markdown",
   "id": "d2e766b4",
   "metadata": {
    "id": "regulation-colleague"
   },
   "source": [
    "17. Задание\n",
    "- сгенерируйте матрицу 10 на 3 с нормальным распределением, среднее 50, отклонение 10\n",
    "- найдите индексы максимальных элементов в каждой строке\n",
    "- найдите сами элементы"
   ]
  },
  {
   "cell_type": "code",
   "execution_count": 144,
   "id": "2e573a92",
   "metadata": {
    "id": "concerned-anthropology"
   },
   "outputs": [
    {
     "name": "stdout",
     "output_type": "stream",
     "text": [
      "[[61 46 55]\n",
      " [49 58 56]\n",
      " [48 62 63]\n",
      " [45 52 51]\n",
      " [46 65 46]\n",
      " [50 39 40]\n",
      " [34 58 37]\n",
      " [66 47 48]\n",
      " [57 51 50]\n",
      " [64 50 61]]\n",
      "[0 1 2 1 1 0 1 0 0 0]\n",
      "[61 46 55 46 46 61 46 61 61 61]\n"
     ]
    }
   ],
   "source": [
    "matrix = np.random.normal(50, 10, (10,3)).astype(int) \n",
    "print(matrix)\n",
    "indexes = matrix.argmax(1)\n",
    "print(indexes)\n",
    "print(matrix[0][indexes])"
   ]
  },
  {
   "cell_type": "code",
   "execution_count": null,
   "id": "193e95e0",
   "metadata": {},
   "outputs": [],
   "source": []
  }
 ],
 "metadata": {
  "colab": {
   "collapsed_sections": [],
   "name": "01_task.ipynb",
   "provenance": []
  },
  "kernelspec": {
   "display_name": "Python 3 (ipykernel)",
   "language": "python",
   "name": "python3"
  },
  "language_info": {
   "codemirror_mode": {
    "name": "ipython",
    "version": 3
   },
   "file_extension": ".py",
   "mimetype": "text/x-python",
   "name": "python",
   "nbconvert_exporter": "python",
   "pygments_lexer": "ipython3",
   "version": "3.9.7"
  }
 },
 "nbformat": 4,
 "nbformat_minor": 5
}