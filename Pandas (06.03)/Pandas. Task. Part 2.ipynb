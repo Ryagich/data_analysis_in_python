{
 "cells": [
  {
   "cell_type": "markdown",
   "metadata": {
    "id": "EmV0s8YY05p7"
   },
   "source": [
    "- __ID__ - Unique number for each athlete\n",
    "- __Name__ - Athlete's name\n",
    "- __Sex__ - M or F\n",
    "- __Age__ - Integer\n",
    "- __Height__ - In centimeters\n",
    "- __Weight__ - In kilograms\n",
    "- __Team__ - Team name\n",
    "- __NOC__ - National Olympic Committee 3-letter code\n",
    "- __Games__ - Year and season\n",
    "- __Year__ - Integer\n",
    "- __Season__ - Summer or Winter\n",
    "- __City__ - Host city\n",
    "- __Sport__ - Sport\n",
    "- __Event__ - Event\n",
    "- __Medal__ - Gold, Silver, Bronze, or NA"
   ]
  },
  {
   "cell_type": "code",
   "execution_count": null,
   "metadata": {
    "id": "rVCrMDMh05p_"
   },
   "outputs": [],
   "source": [
    "import pandas as pd"
   ]
  },
  {
   "cell_type": "code",
   "execution_count": null,
   "metadata": {
    "id": "D5Q4Z-JW05qC"
   },
   "outputs": [],
   "source": [
    "# не меняем путь!\n",
    "PATH = 'https://github.com/aksenov7/Kaggle_competition_group/blob/master/athlete_events.csv.zip?raw=true'"
   ]
  },
  {
   "cell_type": "markdown",
   "metadata": {
    "id": "mI0LtqkY4Kp-"
   },
   "source": [
    "__0. Откройте файл используя необходимые параметры и не меняя переменную PATH__"
   ]
  },
  {
   "cell_type": "code",
   "execution_count": null,
   "metadata": {
    "colab": {
     "base_uri": "https://localhost:8080/",
     "height": 206
    },
    "executionInfo": {
     "elapsed": 2477,
     "status": "ok",
     "timestamp": 1615627554682,
     "user": {
      "displayName": "Александр Аксёнов",
      "photoUrl": "https://lh5.googleusercontent.com/-jOf_oDVHsg8/AAAAAAAAAAI/AAAAAAAAAFM/qwdbG0GW_To/s64/photo.jpg",
      "userId": "11145992452404092449"
     },
     "user_tz": -300
    },
    "id": "h5SQwBLr05qG",
    "outputId": "882f9e83-5fd7-4c3b-b005-56917b15a0fd"
   },
   "outputs": [],
   "source": [
    "data = pd.read_csv(PATH, compression='zip', sep=',')\n",
    "data.head()"
   ]
  },
  {
   "cell_type": "markdown",
   "metadata": {
    "id": "stYR4EbV05qP"
   },
   "source": [
    "__1. Сколько лет было самым молодым мужчинам и женщинам-участникам Олимпийских игр 1992 года ?__\n",
    "- 16 и 15\n",
    "- 14 и 13 \n",
    "- 13 и 11\n",
    "- 11 и 12"
   ]
  },
  {
   "cell_type": "code",
   "execution_count": null,
   "metadata": {
    "id": "HgiqBXtb05qR"
   },
   "outputs": [],
   "source": [
    "data.groupby(['Sex']).Age.min()"
   ]
  },
  {
   "cell_type": "markdown",
   "metadata": {
    "id": "GQ290dsi05qc"
   },
   "source": [
    "__2. Каков был процент баскетболистов-мужчин среди всех мужчин-участников Олимпийских игр 2012 года? Округлите ответ до первого десятичного знака.__\n",
    "\n",
    "Здесь и далее при необходимости отбрасывайте дублированных спортсменов, чтобы считать только уникальных . \n",
    "- 0.2\n",
    "- 1.5 \n",
    "- 2.5\n",
    "- 7.7"
   ]
  },
  {
   "cell_type": "code",
   "execution_count": null,
   "metadata": {
    "id": "-fI5MqWP05qi"
   },
   "outputs": [],
   "source": [
    "round(data[(data['Sex'] == 'M') & (data['Year'] == 2012) & (data['Sport'] =='Basketball')]['Name'].nunique() /\n",
    "      data[(data['Sex'] == 'M') & (data['Year'] == 2012)]['Name'].nunique() * 100, 1)"
   ]
  },
  {
   "cell_type": "markdown",
   "metadata": {
    "id": "u5WrTgIC05qv"
   },
   "source": [
    "__3. Каковы среднее и стандартное отклонение роста теннисисток, участвовавших в Олимпийских играх 2000 года? Округлите ответ до первого десятичного знака.__\n",
    "\n",
    "- 171.8 и 6.5\n",
    "- 179.4 и 10\n",
    "- 180.7 и 6.7\n",
    "- 182.4 и 9.1 "
   ]
  },
  {
   "cell_type": "code",
   "execution_count": null,
   "metadata": {
    "id": "vsKTqn6405qw"
   },
   "outputs": [],
   "source": [
    "FT = data[(data['Sex'] == 'F') & (data['Year'] == 2000) & (data['Sport'] == 'Tennis')]['Height']\n",
    "print(round(FT.mean(),1), 'и', round(FT.std(),1))"
   ]
  },
  {
   "cell_type": "markdown",
   "metadata": {
    "id": "xOOEzhNQ05qy"
   },
   "source": [
    "__4. Найдите спортсмена, который участвовал в Олимпийских играх 2006 года, с наибольшим весом среди других участников той же Олимпиады. Каким спортом он или она занимался?__\n",
    "\n",
    "- Judo\n",
    "- Bobsleigh \n",
    "- Skeleton\n",
    "- Boxing"
   ]
  },
  {
   "cell_type": "code",
   "execution_count": null,
   "metadata": {
    "id": "EkWD1Tnb05qz"
   },
   "outputs": [],
   "source": [
    "data[data['Year'] == 2006].loc[[data[data['Year'] == 2006]['Weight'].idxmax()]]"
   ]
  },
  {
   "cell_type": "markdown",
   "metadata": {
    "id": "UQzxZ3HT05q0"
   },
   "source": [
    "__5. Сколько раз John Aalberg участвовал в Олимпийских играх в разные годы?__\n",
    "\n",
    "Один год - это один раз. Неважно сколько участий внутри одного года\n",
    "- 0\n",
    "- 1 \n",
    "- 2\n",
    "- 3 "
   ]
  },
  {
   "cell_type": "code",
   "execution_count": null,
   "metadata": {
    "id": "ZSfkdjPO05q0"
   },
   "outputs": [],
   "source": [
    "data[data['Name'] == 'John Aalberg']['Year'].nunique()"
   ]
  },
  {
   "cell_type": "markdown",
   "metadata": {
    "id": "8EnLcNrk05q3"
   },
   "source": [
    "__6. Сколько золотых медалей по теннису выиграли спортсмены сборной Switzerland на Олимпиаде-2008? Считайте каждую медаль от каждого спортсмена.__\n",
    "\n",
    "- 0\n",
    "- 1 \n",
    "- 2\n",
    "- 3 "
   ]
  },
  {
   "cell_type": "code",
   "execution_count": null,
   "metadata": {
    "id": "Y754OGI-05q3"
   },
   "outputs": [],
   "source": [
    "data[(data['Year'] == 2008) & (data['Team'] == 'Switzerland') & (data['Medal'] == 'Gold')].shape[0]"
   ]
  },
  {
   "cell_type": "markdown",
   "metadata": {
    "id": "v3h5sQF805q5"
   },
   "source": [
    "__7. Правда ли, что на Олимпийских играх 2016 Spain выиграла меньше медалей, чем Италия?__ \n",
    "\n",
    "- Да\n",
    "- Нет"
   ]
  },
  {
   "cell_type": "code",
   "execution_count": null,
   "metadata": {
    "id": "gqJqDi2605q7"
   },
   "outputs": [],
   "source": [
    "data[(data['Year'] == 2016) & (data['Team'] == 'Spain')]['Medal'].dropna().count() <\\\n",
    "data[(data['Year'] == 2016) & (data['Team'] == 'Italy')]['Medal'].dropna().count() "
   ]
  },
  {
   "cell_type": "markdown",
   "metadata": {
    "id": "kkSYL5mK05q-"
   },
   "source": [
    "__8. К какой возрастной категории принадлежало наименьшее и наибольшее количество участников Олимпиады-2008?__\n",
    "\n",
    "- [45-55] и [25-35) соответственно\n",
    "- [45-55] и [15-25) соответственно\n",
    "- [35-45) и [25-35) соответственно\n",
    "- [45-55] и [35-45) соответственно"
   ]
  },
  {
   "cell_type": "code",
   "execution_count": null,
   "metadata": {
    "id": "pMAQtW7i05q_"
   },
   "outputs": [],
   "source": [
    "data[data['Year'] == 2008]['Age'].plot(kind='bar')\n",
    "    "
   ]
  },
  {
   "cell_type": "markdown",
   "metadata": {
    "id": "JQmJPiXv05rB"
   },
   "source": [
    "__9. Правда ли, что в Atlanta проводились летние Олимпийские игры? Правда ли, что в Squaw Valley проводились зимние Олимпийские игры? ?__\n",
    "\n",
    "- Да, Да\n",
    "- Да, Нет\n",
    "- Нет, Да \n",
    "- Нет, Нет "
   ]
  },
  {
   "cell_type": "code",
   "execution_count": null,
   "metadata": {
    "id": "UU66wRHC05rB"
   },
   "outputs": [],
   "source": []
  },
  {
   "cell_type": "markdown",
   "metadata": {
    "id": "4hxR5D-t05rF"
   },
   "source": [
    "__10. Какова абсолютная разница между количеством уникальных видов спорта на Олимпиаде 1986 года и Олимпиаде 2002 года?__\n",
    "\n",
    "- 3 \n",
    "- 10\n",
    "- 15\n",
    "- 27 "
   ]
  },
  {
   "cell_type": "code",
   "execution_count": null,
   "metadata": {
    "id": "WKIr-TR105rF"
   },
   "outputs": [],
   "source": []
  }
 ],
 "metadata": {
  "colab": {
   "collapsed_sections": [],
   "name": "02_pandas_task.ipynb",
   "provenance": []
  },
  "kernelspec": {
   "display_name": "Python 3 (ipykernel)",
   "language": "python",
   "name": "python3"
  },
  "language_info": {
   "codemirror_mode": {
    "name": "ipython",
    "version": 3
   },
   "file_extension": ".py",
   "mimetype": "text/x-python",
   "name": "python",
   "nbconvert_exporter": "python",
   "pygments_lexer": "ipython3",
   "version": "3.9.7"
  }
 },
 "nbformat": 4,
 "nbformat_minor": 1
}